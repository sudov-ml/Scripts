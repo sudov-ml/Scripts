{
 "cells": [
  {
   "cell_type": "code",
   "execution_count": 1,
   "id": "olympic-texture",
   "metadata": {},
   "outputs": [],
   "source": [
    "import pandas as pd"
   ]
  },
  {
   "cell_type": "code",
   "execution_count": 2,
   "id": "equal-landing",
   "metadata": {},
   "outputs": [],
   "source": [
    "data=pd.read_csv('paid_orders_mar10.csv')\n",
    "ids=data.user_profile_id\n",
    "out=data[ids.isin(ids[ids.duplicated()])].sort_values(\"user_profile_id\")"
   ]
  },
  {
   "cell_type": "code",
   "execution_count": 27,
   "id": "moving-anger",
   "metadata": {},
   "outputs": [],
   "source": [
    "data.group"
   ]
  },
  {
   "cell_type": "code",
   "execution_count": null,
   "id": "shaped-calculation",
   "metadata": {},
   "outputs": [],
   "source": []
  },
  {
   "cell_type": "code",
   "execution_count": null,
   "id": "fuzzy-houston",
   "metadata": {},
   "outputs": [],
   "source": []
  }
 ],
 "metadata": {
  "kernelspec": {
   "display_name": "Python 3",
   "language": "python",
   "name": "python3"
  },
  "language_info": {
   "codemirror_mode": {
    "name": "ipython",
    "version": 3
   },
   "file_extension": ".py",
   "mimetype": "text/x-python",
   "name": "python",
   "nbconvert_exporter": "python",
   "pygments_lexer": "ipython3",
   "version": "3.8.5"
  }
 },
 "nbformat": 4,
 "nbformat_minor": 5
}
